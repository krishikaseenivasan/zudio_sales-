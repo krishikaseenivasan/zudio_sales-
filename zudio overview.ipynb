{
 "cells": [
  {
   "cell_type": "code",
   "execution_count": 33,
   "id": "a3978922-5221-47aa-a966-14e2c0adb1dc",
   "metadata": {},
   "outputs": [],
   "source": [
    "import pandas as pd\n",
    "import matplotlib.pyplot as plt\n",
    "import numpy as np\n",
    "import seaborn as sns\n",
    "import warnings"
   ]
  },
  {
   "cell_type": "code",
   "execution_count": 34,
   "id": "fc4bdea1-2d9d-4059-a97e-e11baf7cf7ce",
   "metadata": {},
   "outputs": [
    {
     "data": {
      "text/html": [
       "<div>\n",
       "<style scoped>\n",
       "    .dataframe tbody tr th:only-of-type {\n",
       "        vertical-align: middle;\n",
       "    }\n",
       "\n",
       "    .dataframe tbody tr th {\n",
       "        vertical-align: top;\n",
       "    }\n",
       "\n",
       "    .dataframe thead th {\n",
       "        text-align: right;\n",
       "    }\n",
       "</style>\n",
       "<table border=\"1\" class=\"dataframe\">\n",
       "  <thead>\n",
       "    <tr style=\"text-align: right;\">\n",
       "      <th></th>\n",
       "      <th>Store</th>\n",
       "      <th>Country</th>\n",
       "      <th>State</th>\n",
       "      <th>City</th>\n",
       "      <th>Category</th>\n",
       "      <th>Clothing Type</th>\n",
       "      <th>Store Number</th>\n",
       "      <th>Postal Code</th>\n",
       "      <th>Store Type</th>\n",
       "      <th>Store Open Date</th>\n",
       "      <th>...</th>\n",
       "      <th>Security Features</th>\n",
       "      <th>Order ID</th>\n",
       "      <th>Order Date</th>\n",
       "      <th>Month</th>\n",
       "      <th>Customer ID</th>\n",
       "      <th>Customer Name</th>\n",
       "      <th>Product ID</th>\n",
       "      <th>Price</th>\n",
       "      <th>Quantity</th>\n",
       "      <th>Sales Profit</th>\n",
       "    </tr>\n",
       "  </thead>\n",
       "  <tbody>\n",
       "    <tr>\n",
       "      <th>0</th>\n",
       "      <td>Zudio</td>\n",
       "      <td>India</td>\n",
       "      <td>Karnataka</td>\n",
       "      <td>Jalna</td>\n",
       "      <td>Women</td>\n",
       "      <td>Dresses</td>\n",
       "      <td>30</td>\n",
       "      <td>411084</td>\n",
       "      <td>Owned</td>\n",
       "      <td>2022-06-04</td>\n",
       "      <td>...</td>\n",
       "      <td>Alarm</td>\n",
       "      <td>88240</td>\n",
       "      <td>2024-11-06</td>\n",
       "      <td>November</td>\n",
       "      <td>233084</td>\n",
       "      <td>Michele Ochoa</td>\n",
       "      <td>354</td>\n",
       "      <td>1958</td>\n",
       "      <td>5</td>\n",
       "      <td>3916.0</td>\n",
       "    </tr>\n",
       "    <tr>\n",
       "      <th>1</th>\n",
       "      <td>Zudio</td>\n",
       "      <td>India</td>\n",
       "      <td>Gujarat</td>\n",
       "      <td>Patna</td>\n",
       "      <td>Kids</td>\n",
       "      <td>Skirts</td>\n",
       "      <td>48</td>\n",
       "      <td>404562</td>\n",
       "      <td>Owned</td>\n",
       "      <td>2020-12-19</td>\n",
       "      <td>...</td>\n",
       "      <td>Alarm</td>\n",
       "      <td>78145</td>\n",
       "      <td>2024-06-17</td>\n",
       "      <td>June</td>\n",
       "      <td>926472</td>\n",
       "      <td>Daniel Jimenez</td>\n",
       "      <td>741</td>\n",
       "      <td>2078</td>\n",
       "      <td>1</td>\n",
       "      <td>831.2</td>\n",
       "    </tr>\n",
       "    <tr>\n",
       "      <th>2</th>\n",
       "      <td>Zudio</td>\n",
       "      <td>India</td>\n",
       "      <td>Uttar Pradesh</td>\n",
       "      <td>Kolkata</td>\n",
       "      <td>Men</td>\n",
       "      <td>Hoodies</td>\n",
       "      <td>97</td>\n",
       "      <td>437773</td>\n",
       "      <td>Rented</td>\n",
       "      <td>2023-09-04</td>\n",
       "      <td>...</td>\n",
       "      <td>CCTV</td>\n",
       "      <td>33363</td>\n",
       "      <td>2024-08-17</td>\n",
       "      <td>August</td>\n",
       "      <td>853255</td>\n",
       "      <td>Steven Davis</td>\n",
       "      <td>607</td>\n",
       "      <td>1445</td>\n",
       "      <td>2</td>\n",
       "      <td>1156.0</td>\n",
       "    </tr>\n",
       "    <tr>\n",
       "      <th>3</th>\n",
       "      <td>Zudio</td>\n",
       "      <td>India</td>\n",
       "      <td>West Bengal</td>\n",
       "      <td>Kolkata</td>\n",
       "      <td>Women</td>\n",
       "      <td>Dresses</td>\n",
       "      <td>93</td>\n",
       "      <td>431725</td>\n",
       "      <td>Owned</td>\n",
       "      <td>2024-04-11</td>\n",
       "      <td>...</td>\n",
       "      <td>CCTV</td>\n",
       "      <td>46682</td>\n",
       "      <td>2024-03-27</td>\n",
       "      <td>March</td>\n",
       "      <td>106146</td>\n",
       "      <td>Derek Orozco</td>\n",
       "      <td>991</td>\n",
       "      <td>2469</td>\n",
       "      <td>6</td>\n",
       "      <td>5925.6</td>\n",
       "    </tr>\n",
       "    <tr>\n",
       "      <th>4</th>\n",
       "      <td>Zudio</td>\n",
       "      <td>India</td>\n",
       "      <td>West Bengal</td>\n",
       "      <td>Guwahati</td>\n",
       "      <td>Men</td>\n",
       "      <td>Dresses</td>\n",
       "      <td>51</td>\n",
       "      <td>415370</td>\n",
       "      <td>Owned</td>\n",
       "      <td>2022-05-29</td>\n",
       "      <td>...</td>\n",
       "      <td>CCTV, Alarm</td>\n",
       "      <td>58242</td>\n",
       "      <td>2024-04-08</td>\n",
       "      <td>April</td>\n",
       "      <td>264070</td>\n",
       "      <td>Victor Arnold</td>\n",
       "      <td>479</td>\n",
       "      <td>1105</td>\n",
       "      <td>6</td>\n",
       "      <td>2652.0</td>\n",
       "    </tr>\n",
       "    <tr>\n",
       "      <th>...</th>\n",
       "      <td>...</td>\n",
       "      <td>...</td>\n",
       "      <td>...</td>\n",
       "      <td>...</td>\n",
       "      <td>...</td>\n",
       "      <td>...</td>\n",
       "      <td>...</td>\n",
       "      <td>...</td>\n",
       "      <td>...</td>\n",
       "      <td>...</td>\n",
       "      <td>...</td>\n",
       "      <td>...</td>\n",
       "      <td>...</td>\n",
       "      <td>...</td>\n",
       "      <td>...</td>\n",
       "      <td>...</td>\n",
       "      <td>...</td>\n",
       "      <td>...</td>\n",
       "      <td>...</td>\n",
       "      <td>...</td>\n",
       "      <td>...</td>\n",
       "    </tr>\n",
       "    <tr>\n",
       "      <th>7894</th>\n",
       "      <td>Zudio</td>\n",
       "      <td>India</td>\n",
       "      <td>Uttar Pradesh</td>\n",
       "      <td>Chandigarh</td>\n",
       "      <td>Kids</td>\n",
       "      <td>Jeans</td>\n",
       "      <td>32</td>\n",
       "      <td>431437</td>\n",
       "      <td>Owned</td>\n",
       "      <td>2024-04-24</td>\n",
       "      <td>...</td>\n",
       "      <td>CCTV, Alarm</td>\n",
       "      <td>39056</td>\n",
       "      <td>2024-09-27</td>\n",
       "      <td>September</td>\n",
       "      <td>591993</td>\n",
       "      <td>Tracey Andrews</td>\n",
       "      <td>262</td>\n",
       "      <td>2838</td>\n",
       "      <td>1</td>\n",
       "      <td>1135.2</td>\n",
       "    </tr>\n",
       "    <tr>\n",
       "      <th>7895</th>\n",
       "      <td>Zudio</td>\n",
       "      <td>India</td>\n",
       "      <td>Uttar Pradesh</td>\n",
       "      <td>Aurangabad</td>\n",
       "      <td>Kids</td>\n",
       "      <td>Jackets</td>\n",
       "      <td>52</td>\n",
       "      <td>424643</td>\n",
       "      <td>Owned</td>\n",
       "      <td>2024-02-03</td>\n",
       "      <td>...</td>\n",
       "      <td>Alarm</td>\n",
       "      <td>85486</td>\n",
       "      <td>2024-03-16</td>\n",
       "      <td>March</td>\n",
       "      <td>822244</td>\n",
       "      <td>Linda Wallace</td>\n",
       "      <td>537</td>\n",
       "      <td>1814</td>\n",
       "      <td>2</td>\n",
       "      <td>1451.2</td>\n",
       "    </tr>\n",
       "    <tr>\n",
       "      <th>7896</th>\n",
       "      <td>Zudio</td>\n",
       "      <td>India</td>\n",
       "      <td>Tamil Nadu</td>\n",
       "      <td>Pune</td>\n",
       "      <td>Kids</td>\n",
       "      <td>T-shirts</td>\n",
       "      <td>81</td>\n",
       "      <td>412057</td>\n",
       "      <td>Owned</td>\n",
       "      <td>2021-04-11</td>\n",
       "      <td>...</td>\n",
       "      <td>CCTV, Alarm</td>\n",
       "      <td>78200</td>\n",
       "      <td>2024-12-02</td>\n",
       "      <td>December</td>\n",
       "      <td>268376</td>\n",
       "      <td>Brandon Baker</td>\n",
       "      <td>457</td>\n",
       "      <td>1961</td>\n",
       "      <td>1</td>\n",
       "      <td>784.4</td>\n",
       "    </tr>\n",
       "    <tr>\n",
       "      <th>7897</th>\n",
       "      <td>Zudio</td>\n",
       "      <td>India</td>\n",
       "      <td>Delhi</td>\n",
       "      <td>Madurai</td>\n",
       "      <td>Men</td>\n",
       "      <td>Shoes</td>\n",
       "      <td>58</td>\n",
       "      <td>405203</td>\n",
       "      <td>Rented</td>\n",
       "      <td>2022-06-17</td>\n",
       "      <td>...</td>\n",
       "      <td>CCTV</td>\n",
       "      <td>19883</td>\n",
       "      <td>2024-07-29</td>\n",
       "      <td>July</td>\n",
       "      <td>766283</td>\n",
       "      <td>John Lewis</td>\n",
       "      <td>608</td>\n",
       "      <td>1017</td>\n",
       "      <td>8</td>\n",
       "      <td>3254.4</td>\n",
       "    </tr>\n",
       "    <tr>\n",
       "      <th>7898</th>\n",
       "      <td>Zudio</td>\n",
       "      <td>India</td>\n",
       "      <td>Gujarat</td>\n",
       "      <td>Bengaluru</td>\n",
       "      <td>Women</td>\n",
       "      <td>Shirts</td>\n",
       "      <td>20</td>\n",
       "      <td>429823</td>\n",
       "      <td>Owned</td>\n",
       "      <td>2023-02-08</td>\n",
       "      <td>...</td>\n",
       "      <td>CCTV, Alarm</td>\n",
       "      <td>91451</td>\n",
       "      <td>2024-04-08</td>\n",
       "      <td>April</td>\n",
       "      <td>541226</td>\n",
       "      <td>Nicholas Salazar</td>\n",
       "      <td>583</td>\n",
       "      <td>2773</td>\n",
       "      <td>5</td>\n",
       "      <td>5546.0</td>\n",
       "    </tr>\n",
       "  </tbody>\n",
       "</table>\n",
       "<p>7899 rows × 28 columns</p>\n",
       "</div>"
      ],
      "text/plain": [
       "      Store Country          State        City Category Clothing Type  \\\n",
       "0     Zudio   India      Karnataka       Jalna    Women       Dresses   \n",
       "1     Zudio   India        Gujarat       Patna     Kids        Skirts   \n",
       "2     Zudio   India  Uttar Pradesh     Kolkata      Men       Hoodies   \n",
       "3     Zudio   India    West Bengal     Kolkata    Women       Dresses   \n",
       "4     Zudio   India    West Bengal    Guwahati      Men       Dresses   \n",
       "...     ...     ...            ...         ...      ...           ...   \n",
       "7894  Zudio   India  Uttar Pradesh  Chandigarh     Kids         Jeans   \n",
       "7895  Zudio   India  Uttar Pradesh  Aurangabad     Kids       Jackets   \n",
       "7896  Zudio   India     Tamil Nadu        Pune     Kids      T-shirts   \n",
       "7897  Zudio   India          Delhi     Madurai      Men         Shoes   \n",
       "7898  Zudio   India        Gujarat   Bengaluru    Women        Shirts   \n",
       "\n",
       "      Store Number  Postal Code Store Type Store Open Date  ...  \\\n",
       "0               30       411084      Owned      2022-06-04  ...   \n",
       "1               48       404562      Owned      2020-12-19  ...   \n",
       "2               97       437773     Rented      2023-09-04  ...   \n",
       "3               93       431725      Owned      2024-04-11  ...   \n",
       "4               51       415370      Owned      2022-05-29  ...   \n",
       "...            ...          ...        ...             ...  ...   \n",
       "7894            32       431437      Owned      2024-04-24  ...   \n",
       "7895            52       424643      Owned      2024-02-03  ...   \n",
       "7896            81       412057      Owned      2021-04-11  ...   \n",
       "7897            58       405203     Rented      2022-06-17  ...   \n",
       "7898            20       429823      Owned      2023-02-08  ...   \n",
       "\n",
       "      Security Features Order ID  Order Date      Month Customer ID  \\\n",
       "0                 Alarm    88240  2024-11-06   November      233084   \n",
       "1                 Alarm    78145  2024-06-17       June      926472   \n",
       "2                  CCTV    33363  2024-08-17     August      853255   \n",
       "3                  CCTV    46682  2024-03-27      March      106146   \n",
       "4           CCTV, Alarm    58242  2024-04-08      April      264070   \n",
       "...                 ...      ...         ...        ...         ...   \n",
       "7894        CCTV, Alarm    39056  2024-09-27  September      591993   \n",
       "7895              Alarm    85486  2024-03-16      March      822244   \n",
       "7896        CCTV, Alarm    78200  2024-12-02   December      268376   \n",
       "7897               CCTV    19883  2024-07-29       July      766283   \n",
       "7898        CCTV, Alarm    91451  2024-04-08      April      541226   \n",
       "\n",
       "         Customer Name  Product ID Price Quantity  Sales Profit  \n",
       "0        Michele Ochoa         354  1958        5        3916.0  \n",
       "1       Daniel Jimenez         741  2078        1         831.2  \n",
       "2         Steven Davis         607  1445        2        1156.0  \n",
       "3         Derek Orozco         991  2469        6        5925.6  \n",
       "4        Victor Arnold         479  1105        6        2652.0  \n",
       "...                ...         ...   ...      ...           ...  \n",
       "7894    Tracey Andrews         262  2838        1        1135.2  \n",
       "7895     Linda Wallace         537  1814        2        1451.2  \n",
       "7896     Brandon Baker         457  1961        1         784.4  \n",
       "7897        John Lewis         608  1017        8        3254.4  \n",
       "7898  Nicholas Salazar         583  2773        5        5546.0  \n",
       "\n",
       "[7899 rows x 28 columns]"
      ]
     },
     "execution_count": 34,
     "metadata": {},
     "output_type": "execute_result"
    }
   ],
   "source": [
    "df=pd.read_csv(\"zudio.csv\")\n",
    "df"
   ]
  },
  {
   "cell_type": "code",
   "execution_count": 92,
   "id": "adf6067e-7708-490c-b050-19773ce6635a",
   "metadata": {},
   "outputs": [
    {
     "data": {
      "text/plain": [
       "Index(['Store', 'Country', 'State', 'City', 'Category', 'Clothing Type',\n",
       "       'Store Number', 'Postal Code', 'Store Type', 'Store Open Date',\n",
       "       'Selling Area Size (sq ft)', 'Store Manager', 'Manager ID',\n",
       "       'Store Address', 'Contact Information', 'Operating Hours',\n",
       "       'Staff Count', 'Parking Availability', 'Security Features', 'Order ID',\n",
       "       'Order Date', 'Datetime', 'Customer ID', 'Customer Name', 'Product ID',\n",
       "       'Price', 'Quantity', 'Sales Profit'],\n",
       "      dtype='object')"
      ]
     },
     "execution_count": 92,
     "metadata": {},
     "output_type": "execute_result"
    }
   ],
   "source": [
    "df.columns"
   ]
  },
  {
   "cell_type": "code",
   "execution_count": 94,
   "id": "507ffba5-83e3-4a17-8d52-2a6288d725f5",
   "metadata": {},
   "outputs": [
    {
     "data": {
      "text/plain": [
       "Store                                object\n",
       "Country                              object\n",
       "State                                object\n",
       "City                                 object\n",
       "Category                             object\n",
       "Clothing Type                        object\n",
       "Store Number                          int64\n",
       "Postal Code                           int64\n",
       "Store Type                           object\n",
       "Store Open Date                      object\n",
       "Selling Area Size (sq ft)             int64\n",
       "Store Manager                        object\n",
       "Manager ID                           object\n",
       "Store Address                        object\n",
       "Contact Information                  object\n",
       "Operating Hours                      object\n",
       "Staff Count                           int64\n",
       "Parking Availability                 object\n",
       "Security Features                    object\n",
       "Order ID                              int64\n",
       "Order Date                   datetime64[ns]\n",
       "Datetime                             object\n",
       "Customer ID                           int64\n",
       "Customer Name                        object\n",
       "Product ID                            int64\n",
       "Price                                 int64\n",
       "Quantity                              int64\n",
       "Sales Profit                        float64\n",
       "dtype: object"
      ]
     },
     "execution_count": 94,
     "metadata": {},
     "output_type": "execute_result"
    }
   ],
   "source": [
    "df.dtypes"
   ]
  },
  {
   "cell_type": "code",
   "execution_count": 95,
   "id": "7e7aa0c7-0ff8-4a80-8f3f-b9f782981df7",
   "metadata": {},
   "outputs": [
    {
     "data": {
      "text/plain": [
       "<bound method DataFrame.info of       Store Country          State        City Category Clothing Type  \\\n",
       "0     Zudio   India      Karnataka       Jalna    Women       Dresses   \n",
       "1     Zudio   India        Gujarat       Patna     Kids        Skirts   \n",
       "2     Zudio   India  Uttar Pradesh     Kolkata      Men       Hoodies   \n",
       "3     Zudio   India    West Bengal     Kolkata    Women       Dresses   \n",
       "4     Zudio   India    West Bengal    Guwahati      Men       Dresses   \n",
       "...     ...     ...            ...         ...      ...           ...   \n",
       "7894  Zudio   India  Uttar Pradesh  Chandigarh     Kids         Jeans   \n",
       "7895  Zudio   India  Uttar Pradesh  Aurangabad     Kids       Jackets   \n",
       "7896  Zudio   India     Tamil Nadu        Pune     Kids      T-shirts   \n",
       "7897  Zudio   India          Delhi     Madurai      Men         Shoes   \n",
       "7898  Zudio   India        Gujarat   Bengaluru    Women        Shirts   \n",
       "\n",
       "      Store Number  Postal Code Store Type Store Open Date  ...  \\\n",
       "0               30       411084      Owned      2022-06-04  ...   \n",
       "1               48       404562      Owned      2020-12-19  ...   \n",
       "2               97       437773     Rented      2023-09-04  ...   \n",
       "3               93       431725      Owned      2024-04-11  ...   \n",
       "4               51       415370      Owned      2022-05-29  ...   \n",
       "...            ...          ...        ...             ...  ...   \n",
       "7894            32       431437      Owned      2024-04-24  ...   \n",
       "7895            52       424643      Owned      2024-02-03  ...   \n",
       "7896            81       412057      Owned      2021-04-11  ...   \n",
       "7897            58       405203     Rented      2022-06-17  ...   \n",
       "7898            20       429823      Owned      2023-02-08  ...   \n",
       "\n",
       "      Security Features Order ID Order Date   Datetime Customer ID  \\\n",
       "0                 Alarm    88240 2024-11-06   November      233084   \n",
       "1                 Alarm    78145 2024-06-17       June      926472   \n",
       "2                  CCTV    33363 2024-08-17     August      853255   \n",
       "3                  CCTV    46682 2024-03-27      March      106146   \n",
       "4           CCTV, Alarm    58242 2024-04-08      April      264070   \n",
       "...                 ...      ...        ...        ...         ...   \n",
       "7894        CCTV, Alarm    39056 2024-09-27  September      591993   \n",
       "7895              Alarm    85486 2024-03-16      March      822244   \n",
       "7896        CCTV, Alarm    78200 2024-12-02   December      268376   \n",
       "7897               CCTV    19883 2024-07-29       July      766283   \n",
       "7898        CCTV, Alarm    91451 2024-04-08      April      541226   \n",
       "\n",
       "         Customer Name  Product ID Price Quantity  Sales Profit  \n",
       "0        Michele Ochoa         354  1958        5        3916.0  \n",
       "1       Daniel Jimenez         741  2078        1         831.2  \n",
       "2         Steven Davis         607  1445        2        1156.0  \n",
       "3         Derek Orozco         991  2469        6        5925.6  \n",
       "4        Victor Arnold         479  1105        6        2652.0  \n",
       "...                ...         ...   ...      ...           ...  \n",
       "7894    Tracey Andrews         262  2838        1        1135.2  \n",
       "7895     Linda Wallace         537  1814        2        1451.2  \n",
       "7896     Brandon Baker         457  1961        1         784.4  \n",
       "7897        John Lewis         608  1017        8        3254.4  \n",
       "7898  Nicholas Salazar         583  2773        5        5546.0  \n",
       "\n",
       "[7899 rows x 28 columns]>"
      ]
     },
     "execution_count": 95,
     "metadata": {},
     "output_type": "execute_result"
    }
   ],
   "source": [
    "df.info"
   ]
  },
  {
   "cell_type": "code",
   "execution_count": 96,
   "id": "e5cfd488-e436-42de-a09e-b3d93acb213a",
   "metadata": {},
   "outputs": [
    {
     "data": {
      "text/plain": [
       "221172"
      ]
     },
     "execution_count": 96,
     "metadata": {},
     "output_type": "execute_result"
    }
   ],
   "source": [
    "df.size"
   ]
  },
  {
   "cell_type": "code",
   "execution_count": 97,
   "id": "ed1aa8f1-182f-4b8e-8110-307c91d54b07",
   "metadata": {},
   "outputs": [
    {
     "data": {
      "text/html": [
       "<div>\n",
       "<style scoped>\n",
       "    .dataframe tbody tr th:only-of-type {\n",
       "        vertical-align: middle;\n",
       "    }\n",
       "\n",
       "    .dataframe tbody tr th {\n",
       "        vertical-align: top;\n",
       "    }\n",
       "\n",
       "    .dataframe thead th {\n",
       "        text-align: right;\n",
       "    }\n",
       "</style>\n",
       "<table border=\"1\" class=\"dataframe\">\n",
       "  <thead>\n",
       "    <tr style=\"text-align: right;\">\n",
       "      <th></th>\n",
       "      <th>Store</th>\n",
       "      <th>Country</th>\n",
       "      <th>State</th>\n",
       "      <th>City</th>\n",
       "      <th>Category</th>\n",
       "      <th>Clothing Type</th>\n",
       "      <th>Store Number</th>\n",
       "      <th>Postal Code</th>\n",
       "      <th>Store Type</th>\n",
       "      <th>Store Open Date</th>\n",
       "      <th>...</th>\n",
       "      <th>Security Features</th>\n",
       "      <th>Order ID</th>\n",
       "      <th>Order Date</th>\n",
       "      <th>Datetime</th>\n",
       "      <th>Customer ID</th>\n",
       "      <th>Customer Name</th>\n",
       "      <th>Product ID</th>\n",
       "      <th>Price</th>\n",
       "      <th>Quantity</th>\n",
       "      <th>Sales Profit</th>\n",
       "    </tr>\n",
       "  </thead>\n",
       "  <tbody>\n",
       "    <tr>\n",
       "      <th>0</th>\n",
       "      <td>Zudio</td>\n",
       "      <td>India</td>\n",
       "      <td>Karnataka</td>\n",
       "      <td>Jalna</td>\n",
       "      <td>Women</td>\n",
       "      <td>Dresses</td>\n",
       "      <td>30</td>\n",
       "      <td>411084</td>\n",
       "      <td>Owned</td>\n",
       "      <td>2022-06-04</td>\n",
       "      <td>...</td>\n",
       "      <td>Alarm</td>\n",
       "      <td>88240</td>\n",
       "      <td>2024-11-06</td>\n",
       "      <td>November</td>\n",
       "      <td>233084</td>\n",
       "      <td>Michele Ochoa</td>\n",
       "      <td>354</td>\n",
       "      <td>1958</td>\n",
       "      <td>5</td>\n",
       "      <td>3916.0</td>\n",
       "    </tr>\n",
       "    <tr>\n",
       "      <th>1</th>\n",
       "      <td>Zudio</td>\n",
       "      <td>India</td>\n",
       "      <td>Gujarat</td>\n",
       "      <td>Patna</td>\n",
       "      <td>Kids</td>\n",
       "      <td>Skirts</td>\n",
       "      <td>48</td>\n",
       "      <td>404562</td>\n",
       "      <td>Owned</td>\n",
       "      <td>2020-12-19</td>\n",
       "      <td>...</td>\n",
       "      <td>Alarm</td>\n",
       "      <td>78145</td>\n",
       "      <td>2024-06-17</td>\n",
       "      <td>June</td>\n",
       "      <td>926472</td>\n",
       "      <td>Daniel Jimenez</td>\n",
       "      <td>741</td>\n",
       "      <td>2078</td>\n",
       "      <td>1</td>\n",
       "      <td>831.2</td>\n",
       "    </tr>\n",
       "    <tr>\n",
       "      <th>2</th>\n",
       "      <td>Zudio</td>\n",
       "      <td>India</td>\n",
       "      <td>Uttar Pradesh</td>\n",
       "      <td>Kolkata</td>\n",
       "      <td>Men</td>\n",
       "      <td>Hoodies</td>\n",
       "      <td>97</td>\n",
       "      <td>437773</td>\n",
       "      <td>Rented</td>\n",
       "      <td>2023-09-04</td>\n",
       "      <td>...</td>\n",
       "      <td>CCTV</td>\n",
       "      <td>33363</td>\n",
       "      <td>2024-08-17</td>\n",
       "      <td>August</td>\n",
       "      <td>853255</td>\n",
       "      <td>Steven Davis</td>\n",
       "      <td>607</td>\n",
       "      <td>1445</td>\n",
       "      <td>2</td>\n",
       "      <td>1156.0</td>\n",
       "    </tr>\n",
       "    <tr>\n",
       "      <th>3</th>\n",
       "      <td>Zudio</td>\n",
       "      <td>India</td>\n",
       "      <td>West Bengal</td>\n",
       "      <td>Kolkata</td>\n",
       "      <td>Women</td>\n",
       "      <td>Dresses</td>\n",
       "      <td>93</td>\n",
       "      <td>431725</td>\n",
       "      <td>Owned</td>\n",
       "      <td>2024-04-11</td>\n",
       "      <td>...</td>\n",
       "      <td>CCTV</td>\n",
       "      <td>46682</td>\n",
       "      <td>2024-03-27</td>\n",
       "      <td>March</td>\n",
       "      <td>106146</td>\n",
       "      <td>Derek Orozco</td>\n",
       "      <td>991</td>\n",
       "      <td>2469</td>\n",
       "      <td>6</td>\n",
       "      <td>5925.6</td>\n",
       "    </tr>\n",
       "    <tr>\n",
       "      <th>4</th>\n",
       "      <td>Zudio</td>\n",
       "      <td>India</td>\n",
       "      <td>West Bengal</td>\n",
       "      <td>Guwahati</td>\n",
       "      <td>Men</td>\n",
       "      <td>Dresses</td>\n",
       "      <td>51</td>\n",
       "      <td>415370</td>\n",
       "      <td>Owned</td>\n",
       "      <td>2022-05-29</td>\n",
       "      <td>...</td>\n",
       "      <td>CCTV, Alarm</td>\n",
       "      <td>58242</td>\n",
       "      <td>2024-04-08</td>\n",
       "      <td>April</td>\n",
       "      <td>264070</td>\n",
       "      <td>Victor Arnold</td>\n",
       "      <td>479</td>\n",
       "      <td>1105</td>\n",
       "      <td>6</td>\n",
       "      <td>2652.0</td>\n",
       "    </tr>\n",
       "    <tr>\n",
       "      <th>5</th>\n",
       "      <td>Zudio</td>\n",
       "      <td>India</td>\n",
       "      <td>West Bengal</td>\n",
       "      <td>Nashik</td>\n",
       "      <td>Kids</td>\n",
       "      <td>Jackets</td>\n",
       "      <td>71</td>\n",
       "      <td>417269</td>\n",
       "      <td>Owned</td>\n",
       "      <td>2021-06-17</td>\n",
       "      <td>...</td>\n",
       "      <td>CCTV</td>\n",
       "      <td>78800</td>\n",
       "      <td>2024-04-25</td>\n",
       "      <td>April</td>\n",
       "      <td>326466</td>\n",
       "      <td>James Bennett</td>\n",
       "      <td>295</td>\n",
       "      <td>2206</td>\n",
       "      <td>4</td>\n",
       "      <td>3529.6</td>\n",
       "    </tr>\n",
       "    <tr>\n",
       "      <th>6</th>\n",
       "      <td>Zudio</td>\n",
       "      <td>India</td>\n",
       "      <td>Maharashtra</td>\n",
       "      <td>Lucknow</td>\n",
       "      <td>Kids</td>\n",
       "      <td>Jackets</td>\n",
       "      <td>44</td>\n",
       "      <td>439184</td>\n",
       "      <td>Rented</td>\n",
       "      <td>2021-04-29</td>\n",
       "      <td>...</td>\n",
       "      <td>CCTV</td>\n",
       "      <td>43329</td>\n",
       "      <td>2024-06-19</td>\n",
       "      <td>June</td>\n",
       "      <td>724817</td>\n",
       "      <td>Benjamin Barrett</td>\n",
       "      <td>222</td>\n",
       "      <td>2848</td>\n",
       "      <td>4</td>\n",
       "      <td>4556.8</td>\n",
       "    </tr>\n",
       "    <tr>\n",
       "      <th>7</th>\n",
       "      <td>Zudio</td>\n",
       "      <td>India</td>\n",
       "      <td>West Bengal</td>\n",
       "      <td>Hyderabad</td>\n",
       "      <td>Women</td>\n",
       "      <td>Tops</td>\n",
       "      <td>74</td>\n",
       "      <td>417964</td>\n",
       "      <td>Owned</td>\n",
       "      <td>2021-11-16</td>\n",
       "      <td>...</td>\n",
       "      <td>CCTV</td>\n",
       "      <td>23062</td>\n",
       "      <td>2024-06-11</td>\n",
       "      <td>June</td>\n",
       "      <td>870587</td>\n",
       "      <td>Matthew Cervantes</td>\n",
       "      <td>595</td>\n",
       "      <td>1694</td>\n",
       "      <td>8</td>\n",
       "      <td>5420.8</td>\n",
       "    </tr>\n",
       "    <tr>\n",
       "      <th>8</th>\n",
       "      <td>Zudio</td>\n",
       "      <td>India</td>\n",
       "      <td>Karnataka</td>\n",
       "      <td>Ahmedabad</td>\n",
       "      <td>Men</td>\n",
       "      <td>Shoes</td>\n",
       "      <td>71</td>\n",
       "      <td>414510</td>\n",
       "      <td>Rented</td>\n",
       "      <td>2023-11-23</td>\n",
       "      <td>...</td>\n",
       "      <td>CCTV, Alarm</td>\n",
       "      <td>72223</td>\n",
       "      <td>2024-01-24</td>\n",
       "      <td>January</td>\n",
       "      <td>790306</td>\n",
       "      <td>Shelley Lopez</td>\n",
       "      <td>243</td>\n",
       "      <td>2024</td>\n",
       "      <td>1</td>\n",
       "      <td>809.6</td>\n",
       "    </tr>\n",
       "    <tr>\n",
       "      <th>9</th>\n",
       "      <td>Zudio</td>\n",
       "      <td>India</td>\n",
       "      <td>Karnataka</td>\n",
       "      <td>Hyderabad</td>\n",
       "      <td>Kids</td>\n",
       "      <td>Jeans</td>\n",
       "      <td>26</td>\n",
       "      <td>411577</td>\n",
       "      <td>Rented</td>\n",
       "      <td>2021-09-02</td>\n",
       "      <td>...</td>\n",
       "      <td>NaN</td>\n",
       "      <td>35882</td>\n",
       "      <td>2024-02-02</td>\n",
       "      <td>February</td>\n",
       "      <td>943541</td>\n",
       "      <td>Brandon Sampson</td>\n",
       "      <td>910</td>\n",
       "      <td>2581</td>\n",
       "      <td>6</td>\n",
       "      <td>6194.4</td>\n",
       "    </tr>\n",
       "  </tbody>\n",
       "</table>\n",
       "<p>10 rows × 28 columns</p>\n",
       "</div>"
      ],
      "text/plain": [
       "   Store Country          State       City Category Clothing Type  \\\n",
       "0  Zudio   India      Karnataka      Jalna    Women       Dresses   \n",
       "1  Zudio   India        Gujarat      Patna     Kids        Skirts   \n",
       "2  Zudio   India  Uttar Pradesh    Kolkata      Men       Hoodies   \n",
       "3  Zudio   India    West Bengal    Kolkata    Women       Dresses   \n",
       "4  Zudio   India    West Bengal   Guwahati      Men       Dresses   \n",
       "5  Zudio   India    West Bengal     Nashik     Kids       Jackets   \n",
       "6  Zudio   India    Maharashtra    Lucknow     Kids       Jackets   \n",
       "7  Zudio   India    West Bengal  Hyderabad    Women          Tops   \n",
       "8  Zudio   India      Karnataka  Ahmedabad      Men         Shoes   \n",
       "9  Zudio   India      Karnataka  Hyderabad     Kids         Jeans   \n",
       "\n",
       "   Store Number  Postal Code Store Type Store Open Date  ...  \\\n",
       "0            30       411084      Owned      2022-06-04  ...   \n",
       "1            48       404562      Owned      2020-12-19  ...   \n",
       "2            97       437773     Rented      2023-09-04  ...   \n",
       "3            93       431725      Owned      2024-04-11  ...   \n",
       "4            51       415370      Owned      2022-05-29  ...   \n",
       "5            71       417269      Owned      2021-06-17  ...   \n",
       "6            44       439184     Rented      2021-04-29  ...   \n",
       "7            74       417964      Owned      2021-11-16  ...   \n",
       "8            71       414510     Rented      2023-11-23  ...   \n",
       "9            26       411577     Rented      2021-09-02  ...   \n",
       "\n",
       "   Security Features Order ID Order Date  Datetime Customer ID  \\\n",
       "0              Alarm    88240 2024-11-06  November      233084   \n",
       "1              Alarm    78145 2024-06-17      June      926472   \n",
       "2               CCTV    33363 2024-08-17    August      853255   \n",
       "3               CCTV    46682 2024-03-27     March      106146   \n",
       "4        CCTV, Alarm    58242 2024-04-08     April      264070   \n",
       "5               CCTV    78800 2024-04-25     April      326466   \n",
       "6               CCTV    43329 2024-06-19      June      724817   \n",
       "7               CCTV    23062 2024-06-11      June      870587   \n",
       "8        CCTV, Alarm    72223 2024-01-24   January      790306   \n",
       "9                NaN    35882 2024-02-02  February      943541   \n",
       "\n",
       "       Customer Name  Product ID Price Quantity  Sales Profit  \n",
       "0      Michele Ochoa         354  1958        5        3916.0  \n",
       "1     Daniel Jimenez         741  2078        1         831.2  \n",
       "2       Steven Davis         607  1445        2        1156.0  \n",
       "3       Derek Orozco         991  2469        6        5925.6  \n",
       "4      Victor Arnold         479  1105        6        2652.0  \n",
       "5      James Bennett         295  2206        4        3529.6  \n",
       "6   Benjamin Barrett         222  2848        4        4556.8  \n",
       "7  Matthew Cervantes         595  1694        8        5420.8  \n",
       "8      Shelley Lopez         243  2024        1         809.6  \n",
       "9    Brandon Sampson         910  2581        6        6194.4  \n",
       "\n",
       "[10 rows x 28 columns]"
      ]
     },
     "execution_count": 97,
     "metadata": {},
     "output_type": "execute_result"
    }
   ],
   "source": [
    "df.head(10)"
   ]
  },
  {
   "cell_type": "code",
   "execution_count": 93,
   "id": "6a5a9d1a-4845-4d4b-b510-33b623d10737",
   "metadata": {},
   "outputs": [
    {
     "data": {
      "text/plain": [
       "25045133.200000003"
      ]
     },
     "execution_count": 93,
     "metadata": {},
     "output_type": "execute_result"
    }
   ],
   "source": [
    "#1.\tWhat is the total sales profit across all stores\n",
    "df[\"Sales Profit\"].sum()"
   ]
  },
  {
   "cell_type": "code",
   "execution_count": 36,
   "id": "3f035cf9-0465-4b63-a1e3-d2b1b8a84318",
   "metadata": {},
   "outputs": [
    {
     "data": {
      "text/plain": [
       "3170.6713761235605"
      ]
     },
     "execution_count": 36,
     "metadata": {},
     "output_type": "execute_result"
    }
   ],
   "source": [
    "#2.\tWhat is the average sales profit per order?\n",
    "df[\"Sales Profit\"].mean()"
   ]
  },
  {
   "cell_type": "code",
   "execution_count": 37,
   "id": "ff59fffa-03c8-46ba-b018-30eed35caedf",
   "metadata": {},
   "outputs": [
    {
     "data": {
      "text/plain": [
       "629"
      ]
     },
     "execution_count": 37,
     "metadata": {},
     "output_type": "execute_result"
    }
   ],
   "source": [
    "#3.\tWhich product has generated the highest total profit?\n",
    "df.groupby('Product ID')[\"Sales Profit\"].sum().idxmax()"
   ]
  },
  {
   "cell_type": "code",
   "execution_count": 38,
   "id": "e9101077-e4f0-438d-8218-2d90deddcbcd",
   "metadata": {},
   "outputs": [
    {
     "data": {
      "text/plain": [
       "Category\n",
       "Kids     12013\n",
       "Men      11727\n",
       "Women    11959\n",
       "Name: Quantity, dtype: int64"
      ]
     },
     "execution_count": 38,
     "metadata": {},
     "output_type": "execute_result"
    }
   ],
   "source": [
    "#4.\tWhat is the total quantity of items sold by clothing category (Men, Women, Kids)?\n",
    "df.groupby(\"Category\")[\"Quantity\"].sum()"
   ]
  },
  {
   "cell_type": "code",
   "execution_count": 39,
   "id": "ffaceeaa-5fc4-4840-aaa1-48f20f38e57f",
   "metadata": {},
   "outputs": [
    {
     "data": {
      "text/plain": [
       "'Jalna'"
      ]
     },
     "execution_count": 39,
     "metadata": {},
     "output_type": "execute_result"
    }
   ],
   "source": [
    "#5.\tWhich city had the highest overall sales profit?\n",
    "df.groupby('City')['Sales Profit'].sum().idxmax()\n"
   ]
  },
  {
   "cell_type": "code",
   "execution_count": 40,
   "id": "3c9f7c21-1ff9-4f55-bfc8-788c14b78ce3",
   "metadata": {},
   "outputs": [
    {
     "data": {
      "text/plain": [
       "Month\n",
       "October      2372189.6\n",
       "August       2318573.2\n",
       "November     2312898.4\n",
       "January      2304772.4\n",
       "April        2264574.4\n",
       "March        2261135.6\n",
       "May          2245175.2\n",
       "July         2212031.2\n",
       "February     2177634.8\n",
       "September    2172476.0\n",
       "June         2170034.0\n",
       "December      233638.4\n",
       "Name: Sales Profit, dtype: float64"
      ]
     },
     "execution_count": 40,
     "metadata": {},
     "output_type": "execute_result"
    }
   ],
   "source": [
    "#6.\tWhat is the trend of sales profit month-wise?\n",
    "df.groupby(\"Month\")['Sales Profit'].sum().sort_values(ascending=False)"
   ]
  },
  {
   "cell_type": "code",
   "execution_count": 41,
   "id": "80d2ce6e-b3cf-4aef-8d3d-20eea9c55029",
   "metadata": {},
   "outputs": [
    {
     "data": {
      "text/plain": [
       "'October'"
      ]
     },
     "execution_count": 41,
     "metadata": {},
     "output_type": "execute_result"
    }
   ],
   "source": [
    "#7.\tIn which month does Zudio make the highest sales?\n",
    "df.groupby(\"Month\")['Sales Profit'].sum().idxmax()"
   ]
  },
  {
   "cell_type": "code",
   "execution_count": 42,
   "id": "c3cdc7d1-3b67-431a-a2bf-40b8e94fd598",
   "metadata": {},
   "outputs": [
    {
     "data": {
      "text/plain": [
       "655.9166666666666"
      ]
     },
     "execution_count": 42,
     "metadata": {},
     "output_type": "execute_result"
    }
   ],
   "source": [
    "#8 What is the average number of orders per month?\n",
    "df.groupby(\"Month\")[\"Order ID\"].nunique().mean()"
   ]
  },
  {
   "cell_type": "code",
   "execution_count": 43,
   "id": "14ef3d25-f0cd-444b-a503-f97776cbcdd5",
   "metadata": {},
   "outputs": [
    {
     "data": {
      "text/plain": [
       "25045133.200000003"
      ]
     },
     "execution_count": 43,
     "metadata": {},
     "output_type": "execute_result"
    }
   ],
   "source": [
    "#9.\tWhat is the total profit in the year 2024 only?\n",
    "df.rename(columns={\"Month\":\"Datetime\"},inplace=True) \n",
    "df[\"Order Date\"]=pd.to_datetime(df[\"Order Date\"])\n",
    "df[df['Order Date'].dt.year == 2024]['Sales Profit'].sum()"
   ]
  },
  {
   "cell_type": "code",
   "execution_count": 44,
   "id": "4df6ae39-1bcb-4428-af3a-d9e018b38d5e",
   "metadata": {},
   "outputs": [
    {
     "data": {
      "text/plain": [
       "'West Bengal'"
      ]
     },
     "execution_count": 44,
     "metadata": {},
     "output_type": "execute_result"
    }
   ],
   "source": [
    "#10.\tWhich state has the highest average profit per order?\n",
    "df.groupby(\"State\")[\"Sales Profit\"].mean().idxmax()"
   ]
  },
  {
   "cell_type": "code",
   "execution_count": 45,
   "id": "7000e2ca-f478-4134-b3bd-dfd2b2ede174",
   "metadata": {},
   "outputs": [
    {
     "data": {
      "text/plain": [
       "Store Type\n",
       "Owned     12474218.0\n",
       "Rented    12570915.2\n",
       "Name: Sales Profit, dtype: float64"
      ]
     },
     "execution_count": 45,
     "metadata": {},
     "output_type": "execute_result"
    }
   ],
   "source": [
    "#11.Compare profits between \"Owned\" and \"Rented\" store types.\n",
    "df.groupby(\"Store Type\")[\"Sales Profit\"].sum()"
   ]
  },
  {
   "cell_type": "code",
   "execution_count": 46,
   "id": "57712044-fc28-4c6d-850d-c247856470f2",
   "metadata": {},
   "outputs": [
    {
     "data": {
      "text/plain": [
       "-0.016925305267708763"
      ]
     },
     "execution_count": 46,
     "metadata": {},
     "output_type": "execute_result"
    }
   ],
   "source": [
    "#12.How does the selling area size affect total sales?\n",
    "df[['Selling Area Size (sq ft)', 'Sales Profit']].corr().iloc[0, 1]"
   ]
  },
  {
   "cell_type": "code",
   "execution_count": 47,
   "id": "8dc13e7a-f117-4548-a36a-3c6aa2c1a223",
   "metadata": {},
   "outputs": [
    {
     "data": {
      "text/plain": [
       "'Kolkata'"
      ]
     },
     "execution_count": 47,
     "metadata": {},
     "output_type": "execute_result"
    }
   ],
   "source": [
    "#13.Which store location (state or city) has the maximum number of orders?\n",
    "df.groupby(\"City\")[\"Order ID\"].count().idxmax()"
   ]
  },
  {
   "cell_type": "code",
   "execution_count": 48,
   "id": "f2535961-857a-43f8-aba1-1e12ca1898c7",
   "metadata": {},
   "outputs": [
    {
     "data": {
      "text/plain": [
       "Clothing Type\n",
       "Dresses     1765.346257\n",
       "Hoodies     1725.461648\n",
       "Jackets     1752.829932\n",
       "Jeans       1735.096866\n",
       "Pants       1786.069348\n",
       "Shirts      1805.906516\n",
       "Shoes       1736.834286\n",
       "Skirts      1781.465565\n",
       "Sweaters    1797.514286\n",
       "T-shirts    1770.514286\n",
       "Tops        1714.710526\n",
       "Name: Price, dtype: float64"
      ]
     },
     "execution_count": 48,
     "metadata": {},
     "output_type": "execute_result"
    }
   ],
   "source": [
    "#14.\tWhat is the average price for each clothing type?\n",
    "df.groupby(\"Clothing Type\")[\"Price\"].mean()"
   ]
  },
  {
   "cell_type": "code",
   "execution_count": 49,
   "id": "c4665d17-2d9e-4971-804c-ea9fd1dbf088",
   "metadata": {},
   "outputs": [
    {
     "data": {
      "text/plain": [
       "'Dresses'"
      ]
     },
     "execution_count": 49,
     "metadata": {},
     "output_type": "execute_result"
    }
   ],
   "source": [
    "#15.\tWhich clothing type is sold the most in quantity?\n",
    "df.groupby(\"Clothing Type\")[\"Quantity\"].sum().idxmax()"
   ]
  },
  {
   "cell_type": "code",
   "execution_count": 50,
   "id": "894391f4-e505-4f95-b165-03a8dd68f125",
   "metadata": {},
   "outputs": [
    {
     "data": {
      "text/plain": [
       "Product ID\n",
       "629    70354.4\n",
       "998    70014.8\n",
       "963    69132.8\n",
       "740    67828.0\n",
       "481    67806.8\n",
       "Name: Sales Profit, dtype: float64"
      ]
     },
     "execution_count": 50,
     "metadata": {},
     "output_type": "execute_result"
    }
   ],
   "source": [
    "#16.Identify the top 5 most profitable product IDs.\n",
    "df.groupby(\"Product ID\")[\"Sales Profit\"].sum().nlargest(5)"
   ]
  },
  {
   "cell_type": "code",
   "execution_count": 51,
   "id": "3e611224-235a-4978-a2cc-6efa62b9b572",
   "metadata": {},
   "outputs": [
    {
     "data": {
      "text/plain": [
       "258"
      ]
     },
     "execution_count": 51,
     "metadata": {},
     "output_type": "execute_result"
    }
   ],
   "source": [
    "#17.Find the most frequently purchased product by customers.\n",
    "df[\"Product ID\"].value_counts().idxmax()"
   ]
  },
  {
   "cell_type": "code",
   "execution_count": 52,
   "id": "0fd04a7f-67c6-40c9-923d-fb29f03297aa",
   "metadata": {},
   "outputs": [
    {
     "data": {
      "text/plain": [
       "Customer Name\n",
       "Michael Williams    9596.8\n",
       "Darin Holder        9590.4\n",
       "Kirk Hayes          9584.0\n",
       "Ronald Jones        9580.8\n",
       "Sierra Richards     9574.4\n",
       "Name: Sales Profit, dtype: float64"
      ]
     },
     "execution_count": 52,
     "metadata": {},
     "output_type": "execute_result"
    }
   ],
   "source": [
    "#18.Who are the top 5 customers based on total spending?\n",
    "df.groupby(\"Customer Name\")[\"Sales Profit\"].max().nlargest(5)"
   ]
  },
  {
   "cell_type": "code",
   "execution_count": 53,
   "id": "599664d1-a264-4671-a61f-4caadb0a1835",
   "metadata": {},
   "outputs": [
    {
     "data": {
      "text/plain": [
       "7870"
      ]
     },
     "execution_count": 53,
     "metadata": {},
     "output_type": "execute_result"
    }
   ],
   "source": [
    "#19.How many unique customers placed orders?\n",
    "df[\"Customer ID\"].nunique()"
   ]
  },
  {
   "cell_type": "code",
   "execution_count": 54,
   "id": "2e9e1538-55fa-4553-b926-c210495609e7",
   "metadata": {},
   "outputs": [
    {
     "data": {
      "text/plain": [
       "4.536086404066074"
      ]
     },
     "execution_count": 54,
     "metadata": {},
     "output_type": "execute_result"
    }
   ],
   "source": [
    "#20.What is the average number of items purchased per customer?\n",
    "df.groupby('Customer ID')['Quantity'].sum().mean()"
   ]
  },
  {
   "cell_type": "code",
   "execution_count": 55,
   "id": "183cc15c-7638-40d8-8d9f-d3954868cb72",
   "metadata": {},
   "outputs": [
    {
     "data": {
      "text/plain": [
       "Security Features\n",
       "Alarm          6094362.4\n",
       "CCTV           5988269.6\n",
       "CCTV, Alarm    6334232.0\n",
       "Name: Sales Profit, dtype: float64"
      ]
     },
     "execution_count": 55,
     "metadata": {},
     "output_type": "execute_result"
    }
   ],
   "source": [
    "#21.Do stores with CCTV or Alarm systems perform better in terms of sales?\n",
    "df.groupby(\"Security Features\")[\"Sales Profit\"].sum()"
   ]
  },
  {
   "cell_type": "code",
   "execution_count": 56,
   "id": "73f88703-dc4f-4e41-9b55-677227426726",
   "metadata": {},
   "outputs": [
    {
     "data": {
      "text/plain": [
       "-0.0029817025315890277"
      ]
     },
     "execution_count": 56,
     "metadata": {},
     "output_type": "execute_result"
    }
   ],
   "source": [
    "# 22.Is there a correlation between staff count and sales profit?\n",
    "df[[\"Staff Count\",\"Sales Profit\"]].corr().iloc[0,1]"
   ]
  },
  {
   "cell_type": "code",
   "execution_count": 57,
   "id": "d4b0d207-5032-4ac6-9949-7357cdc8d99a",
   "metadata": {},
   "outputs": [
    {
     "data": {
      "text/plain": [
       "'David Jones'"
      ]
     },
     "execution_count": 57,
     "metadata": {},
     "output_type": "execute_result"
    }
   ],
   "source": [
    "#23.Which manager oversees the most profitable store?\n",
    "df.groupby(\"Store Manager\")[\"Sales Profit\"].sum().idxmax()"
   ]
  },
  {
   "cell_type": "code",
   "execution_count": 58,
   "id": "813d0039-638d-4ffd-aac4-71688c94aea1",
   "metadata": {},
   "outputs": [
    {
     "data": {
      "text/plain": [
       "Store Manager\n",
       "David Jones         20570.4\n",
       "David Williams      18760.8\n",
       "Daniel Brown        17099.6\n",
       "John Smith          15807.2\n",
       "Daniel Smith        15293.2\n",
       "Paul Williams       14416.0\n",
       "Molly Jones         13741.2\n",
       "Stephanie Brown     13452.8\n",
       "Melissa Williams    13164.8\n",
       "Michael Brown       13098.0\n",
       "Name: Sales Profit, dtype: float64"
      ]
     },
     "execution_count": 58,
     "metadata": {},
     "output_type": "execute_result"
    }
   ],
   "source": [
    "#24.What is the total sales by each store manager?\n",
    "df.groupby(\"Store Manager\")[\"Sales Profit\"].sum().sort_values(ascending=False).head(10)"
   ]
  },
  {
   "cell_type": "code",
   "execution_count": 77,
   "id": "f730934c-bac8-402d-a681-a044d4ec6fbe",
   "metadata": {},
   "outputs": [
    {
     "data": {
      "image/png": "[encoded data removed]",
      "text/plain": [
       "<Figure size 900x1000 with 1 Axes>"
      ]
     },
     "metadata": {},
     "output_type": "display_data"
    }
   ],
   "source": [
    "#25.Build a bar chart comparing quantity sold vs. profit for each clothing category.\n",
    "a = df.iloc[0:100][[\"Category\", \"Quantity\",\"Sales Profit\"]]\n",
    "plt.figure(figsize=(9,10))\n",
    "ax = sns.barplot(x='Quantity', y='Sales Profit', hue='Category', data=a,palette='Set1')\n"
   ]
  },
  {
   "cell_type": "code",
   "execution_count": 83,
   "id": "2c19ac60-e9a5-47d7-ba13-7759aa59f1e1",
   "metadata": {},
   "outputs": [
    {
     "data": {
      "text/plain": [
       "<Axes: ylabel='count'>"
      ]
     },
     "execution_count": 83,
     "metadata": {},
     "output_type": "execute_result"
    },
    {
     "data": {
      "image/png": "[encoded data removed]",
      "text/plain": [
       "<Figure size 640x480 with 1 Axes>"
      ]
     },
     "metadata": {},
     "output_type": "display_data"
    }
   ],
   "source": [
    "#26.Use a pie chart to show the distribution of store types.\n",
    "df[\"Store Type\"].value_counts().plot(kind ='pie')"
   ]
  },
  {
   "cell_type": "code",
   "execution_count": 85,
   "id": "a7556740-d58c-487a-9524-c34fc86d6a6d",
   "metadata": {},
   "outputs": [
    {
     "name": "stderr",
     "output_type": "stream",
     "text": [
      "C:\\Users\\ELCOT\\AppData\\Local\\Temp\\ipykernel_7568\\1198486785.py:4: UserWarning: Ignoring `palette` because no `hue` variable has been assigned.\n",
      "  ax=sns.lineplot(x=\"Datetime\",y='Sales Profit',data=a,palette=\"Set2\")\n",
      "C:\\Users\\ELCOT\\anaconda3\\Lib\\site-packages\\seaborn\\_oldcore.py:1119: FutureWarning: use_inf_as_na option is deprecated and will be removed in a future version. Convert inf values to NaN before operating instead.\n",
      "  with pd.option_context('mode.use_inf_as_na', True):\n",
      "C:\\Users\\ELCOT\\anaconda3\\Lib\\site-packages\\seaborn\\_oldcore.py:1119: FutureWarning: use_inf_as_na option is deprecated and will be removed in a future version. Convert inf values to NaN before operating instead.\n",
      "  with pd.option_context('mode.use_inf_as_na', True):\n"
     ]
    },
    {
     "data": {
      "image/png": "[encoded data removed]",
      "text/plain": [
       "<Figure size 2000x1500 with 1 Axes>"
      ]
     },
     "metadata": {},
     "output_type": "display_data"
    }
   ],
   "source": [
    "#27.Use a line chart to display sales trends over the months.\n",
    "plt.figure(figsize=(20,15))\n",
    "a=df.iloc[0:100][[\"Datetime\",\"Sales Profit\"]]\n",
    "ax=sns.lineplot(x=\"Datetime\",y='Sales Profit',data=a,palette=\"Set2\")\n",
    "plt.xlabel(\"Months\")\n",
    "plt.ylabel(\"sales\")\n",
    "plt.title(\"sales trends over the months \")\n",
    "plt.show()"
   ]
  },
  {
   "cell_type": "code",
   "execution_count": null,
   "id": "2325cb97-5c8f-4b9f-badb-5c8e12cb3605",
   "metadata": {},
   "outputs": [],
   "source": []
  }
 ],
 "metadata": {
  "kernelspec": {
   "display_name": "Python 3 (ipykernel)",
   "language": "python",
   "name": "python3"
  },
  "language_info": {
   "codemirror_mode": {
    "name": "ipython",
    "version": 3
   },
   "file_extension": ".py",
   "mimetype": "text/x-python",
   "name": "python",
   "nbconvert_exporter": "python",
   "pygments_lexer": "ipython3",
   "version": "3.11.7"
  }
 },
 "nbformat": 4,
 "nbformat_minor": 5
}
